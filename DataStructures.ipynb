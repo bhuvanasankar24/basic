{
  "nbformat": 4,
  "nbformat_minor": 0,
  "metadata": {
    "colab": {
      "provenance": [],
      "authorship_tag": "ABX9TyMF1YmYo0TAcbaZrEXvnbYK",
      "include_colab_link": true
    },
    "kernelspec": {
      "name": "python3",
      "display_name": "Python 3"
    },
    "language_info": {
      "name": "python"
    }
  },
  "cells": [
    {
      "cell_type": "markdown",
      "metadata": {
        "id": "view-in-github",
        "colab_type": "text"
      },
      "source": [
        "<a href=\"https://colab.research.google.com/github/bhuvanasankar24/basic/blob/main/DataStructures.ipynb\" target=\"_parent\"><img src=\"https://colab.research.google.com/assets/colab-badge.svg\" alt=\"Open In Colab\"/></a>"
      ]
    },
    {
      "cell_type": "code",
      "execution_count": 1,
      "metadata": {
        "colab": {
          "base_uri": "https://localhost:8080/"
        },
        "id": "AB6bFzuucVZN",
        "outputId": "bd0bc619-f314-4f64-db2d-5070adc4e039"
      },
      "outputs": [
        {
          "output_type": "stream",
          "name": "stdout",
          "text": [
            "Union:  {11, 12, 13, 14, 15, 16, 17, 18}\n",
            "Intersection:  {14, 15}\n",
            "Difference:  {11, 12, 13}\n",
            "Symmetric Difference:  {16, 17, 18, 11, 12, 13}\n"
          ]
        }
      ],
      "source": [
        "def union_set(set1, set2):\n",
        "  return set1.union(set2)\n",
        "\n",
        "def intersection_set(set1, set2):\n",
        "  return set1.intersection(set2)\n",
        "\n",
        "def difference_set(set1, set2):\n",
        "  return set1.difference(set2)\n",
        "\n",
        "def symmetric_difference_set(set1, set2):\n",
        "  return set1.symmetric_difference(set2)\n",
        "\n",
        "set1 = {11, 12, 13, 14, 15}\n",
        "set2 = {14, 15, 16, 17, 18}\n",
        "\n",
        "print(\"Union: \",union_set(set1, set2))\n",
        "print(\"Intersection: \",intersection_set(set1, set2))\n",
        "print(\"Difference: \",difference_set(set1, set2))\n",
        "print(\"Symmetric Difference: \",symmetric_difference_set(set1, set2))"
      ]
    },
    {
      "cell_type": "code",
      "source": [],
      "metadata": {
        "id": "cHZOCceLdR-W"
      },
      "execution_count": null,
      "outputs": []
    }
  ]
}